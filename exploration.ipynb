{
 "cells": [
  {
   "cell_type": "code",
   "execution_count": 1,
   "metadata": {},
   "outputs": [],
   "source": [
    "import pandas as pd"
   ]
  },
  {
   "cell_type": "code",
   "execution_count": 29,
   "metadata": {},
   "outputs": [],
   "source": [
    "id_df_train = pd.read_csv(\"data/train_identity.csv\") "
   ]
  },
  {
   "cell_type": "code",
   "execution_count": 16,
   "metadata": {},
   "outputs": [
    {
     "data": {
      "text/plain": [
       "TransactionID      int64\n",
       "id_01            float64\n",
       "id_02            float64\n",
       "id_03            float64\n",
       "id_04            float64\n",
       "id_05            float64\n",
       "id_06            float64\n",
       "id_07            float64\n",
       "id_08            float64\n",
       "id_09            float64\n",
       "id_10            float64\n",
       "id_11            float64\n",
       "id_12             object\n",
       "id_13            float64\n",
       "id_14            float64\n",
       "id_15             object\n",
       "id_16             object\n",
       "id_17            float64\n",
       "id_18            float64\n",
       "id_19            float64\n",
       "id_20            float64\n",
       "id_21            float64\n",
       "id_22            float64\n",
       "id_23             object\n",
       "id_24            float64\n",
       "id_25            float64\n",
       "id_26            float64\n",
       "id_27             object\n",
       "id_28             object\n",
       "id_29             object\n",
       "id_30             object\n",
       "id_31             object\n",
       "id_32            float64\n",
       "id_33             object\n",
       "id_34             object\n",
       "id_35             object\n",
       "id_36             object\n",
       "id_37             object\n",
       "id_38             object\n",
       "DeviceType        object\n",
       "DeviceInfo        object\n",
       "dtype: object"
      ]
     },
     "execution_count": 16,
     "metadata": {},
     "output_type": "execute_result"
    }
   ],
   "source": [
    "id_df_train.dtypes"
   ]
  },
  {
   "cell_type": "code",
   "execution_count": null,
   "metadata": {},
   "outputs": [
    {
     "data": {
      "text/plain": [
       "array(['F', nan, 'T'], dtype=object)"
      ]
     },
     "execution_count": 20,
     "metadata": {},
     "output_type": "execute_result"
    }
   ],
   "source": [
    "id_df_train.id_36.unique()"
   ]
  },
  {
   "cell_type": "code",
   "execution_count": 24,
   "metadata": {},
   "outputs": [
    {
     "data": {
      "text/plain": [
       "array(['NotFound', 'Found'], dtype=object)"
      ]
     },
     "execution_count": 24,
     "metadata": {},
     "output_type": "execute_result"
    }
   ],
   "source": [
    "id_df_train.id_12.unique()"
   ]
  },
  {
   "cell_type": "code",
   "execution_count": null,
   "metadata": {},
   "outputs": [],
   "source": []
  },
  {
   "cell_type": "code",
   "execution_count": 30,
   "metadata": {},
   "outputs": [],
   "source": [
    "tr_df_train = pd.read_csv(\"data/train_transaction.csv\") "
   ]
  },
  {
   "cell_type": "code",
   "execution_count": 27,
   "metadata": {},
   "outputs": [
    {
     "data": {
      "text/plain": [
       "TransactionID       int64\n",
       "isFraud             int64\n",
       "TransactionDT       int64\n",
       "TransactionAmt    float64\n",
       "ProductCD          object\n",
       "                   ...   \n",
       "V335              float64\n",
       "V336              float64\n",
       "V337              float64\n",
       "V338              float64\n",
       "V339              float64\n",
       "Length: 394, dtype: object"
      ]
     },
     "execution_count": 27,
     "metadata": {},
     "output_type": "execute_result"
    }
   ],
   "source": [
    "tr_df_train.dtypes"
   ]
  },
  {
   "cell_type": "code",
   "execution_count": 31,
   "metadata": {},
   "outputs": [],
   "source": [
    "tr_df_test = pd.read_csv(\"data/test_transaction.csv\") "
   ]
  },
  {
   "cell_type": "code",
   "execution_count": 32,
   "metadata": {},
   "outputs": [],
   "source": [
    "id_df_test = pd.read_csv(\"data/test_identity.csv\") "
   ]
  },
  {
   "cell_type": "code",
   "execution_count": null,
   "metadata": {},
   "outputs": [
    {
     "name": "stdout",
     "output_type": "stream",
     "text": [
      "590540\n",
      "506691\n",
      "144233\n",
      "141907\n"
     ]
    }
   ],
   "source": [
    "print(len(tr_df_train))\n",
    "print(len(tr_df_test))\n",
    "print(len(id_df_train))\n",
    "print(len(id_df_test))"
   ]
  },
  {
   "cell_type": "code",
   "execution_count": 35,
   "metadata": {},
   "outputs": [
    {
     "name": "stdout",
     "output_type": "stream",
     "text": [
      "(590540, 394)\n",
      "(506691, 393)\n",
      "(144233, 41)\n",
      "(141907, 41)\n"
     ]
    }
   ],
   "source": [
    "print(tr_df_train.shape)\n",
    "print(tr_df_test.shape)\n",
    "print(id_df_train.shape)\n",
    "print(id_df_test.shape)"
   ]
  }
 ],
 "metadata": {
  "kernelspec": {
   "display_name": "base",
   "language": "python",
   "name": "python3"
  },
  "language_info": {
   "codemirror_mode": {
    "name": "ipython",
    "version": 3
   },
   "file_extension": ".py",
   "mimetype": "text/x-python",
   "name": "python",
   "nbconvert_exporter": "python",
   "pygments_lexer": "ipython3",
   "version": "3.11.8"
  }
 },
 "nbformat": 4,
 "nbformat_minor": 2
}
